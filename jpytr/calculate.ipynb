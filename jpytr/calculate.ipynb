{
 "cells": [
  {
   "cell_type": "code",
   "execution_count": 1,
   "id": "17c4aa34-f23b-4744-9cb3-f3c3653225e1",
   "metadata": {
    "jupyter": {
     "source_hidden": true
    }
   },
   "outputs": [],
   "source": [
    "h_val = {\n",
    "    0: 320,\n",
    "    1: 180.5,\n",
    "    2: 558,\n",
    "    3: 364.5,\n",
    "    4: 577.8,\n",
    "    5: 476.5,\n",
    "    6: 392,\n",
    "    7: 200,\n",
    "}"
   ]
  },
  {
   "cell_type": "code",
   "execution_count": 2,
   "id": "7fb8a13c-00c2-4c4d-8323-887fe80cbc42",
   "metadata": {
    "jupyter": {
     "source_hidden": true
    }
   },
   "outputs": [
    {
     "name": "stdout",
     "output_type": "stream",
     "text": [
      "{0: 320, 1: 180.5, 2: 558, 3: 364.5, 4: 577.8, 5: 476.5, 6: 392, 7: 200}\n"
     ]
    }
   ],
   "source": [
    "print(h_val)"
   ]
  },
  {
   "cell_type": "code",
   "execution_count": 3,
   "id": "6f9f8f65-4813-4c42-83a4-a26b723d7b20",
   "metadata": {},
   "outputs": [
    {
     "data": {
      "image/png": "[encoded data removed]",
      "text/plain": [
       "<Figure size 640x480 with 1 Axes>"
      ]
     },
     "metadata": {},
     "output_type": "display_data"
    }
   ],
   "source": [
    "import matplotlib.pyplot as plt\n",
    "import numpy as np\n",
    "\n",
    "xp = list(h_val.keys())\n",
    "yp = list(h_val.values())\n",
    "plt.bar(xp, yp)\n",
    "plt.show()"
   ]
  },
  {
   "cell_type": "code",
   "execution_count": 4,
   "id": "070e1d97-ea52-4a80-89ef-092431a7407e",
   "metadata": {},
   "outputs": [],
   "source": [
    "total = sum(yp)\n",
    "avrg = total/len(xp)"
   ]
  },
  {
   "cell_type": "code",
   "execution_count": 5,
   "id": "4ce0a160-4fee-4841-81de-edee16d9a32f",
   "metadata": {},
   "outputs": [
    {
     "name": "stdout",
     "output_type": "stream",
     "text": [
      "total hours: 3069.3\n",
      "average: 383.6625\n"
     ]
    }
   ],
   "source": [
    "print(f\"total hours: {total}\")\n",
    "print(f\"average: {avrg}\")\n"
   ]
  },
  {
   "cell_type": "code",
   "execution_count": 6,
   "id": "efed7f40-03ff-4921-8d8e-e4e474ec4482",
   "metadata": {},
   "outputs": [],
   "source": [
    "def hr_to_bdt(x):\n",
    "    return x * 1100"
   ]
  },
  {
   "cell_type": "code",
   "execution_count": 7,
   "id": "2c83d794-136c-4b4b-a0b6-a5215e79f524",
   "metadata": {},
   "outputs": [],
   "source": [
    "bdt_total = hr_to_bdt(total)\n",
    "bdt_avrg = hr_to_bdt(avrg)"
   ]
  },
  {
   "cell_type": "code",
   "execution_count": 8,
   "id": "b8f24446-a7cb-4a24-8da6-1cc4475e4222",
   "metadata": {},
   "outputs": [
    {
     "name": "stdout",
     "output_type": "stream",
     "text": [
      "total bdt: 3376230.0\n",
      "average bdt: 422028.75\n"
     ]
    }
   ],
   "source": [
    "print(f\"total bdt: {bdt_total}\")\n",
    "print(f\"average bdt: {bdt_avrg}\")"
   ]
  },
  {
   "cell_type": "code",
   "execution_count": null,
   "id": "2fdf4baf-baa0-4d95-ac28-f742c577ca40",
   "metadata": {},
   "outputs": [],
   "source": []
  }
 ],
 "metadata": {
  "kernelspec": {
   "display_name": "Python 3 (ipykernel)",
   "language": "python",
   "name": "python3"
  },
  "language_info": {
   "codemirror_mode": {
    "name": "ipython",
    "version": 3
   },
   "file_extension": ".py",
   "mimetype": "text/x-python",
   "name": "python",
   "nbconvert_exporter": "python",
   "pygments_lexer": "ipython3",
   "version": "3.10.12"
  }
 },
 "nbformat": 4,
 "nbformat_minor": 5
}
